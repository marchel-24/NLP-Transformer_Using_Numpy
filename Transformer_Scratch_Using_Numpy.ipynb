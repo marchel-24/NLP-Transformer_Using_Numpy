{
  "nbformat": 4,
  "nbformat_minor": 0,
  "metadata": {
    "colab": {
      "provenance": [],
      "toc_visible": true
    },
    "kernelspec": {
      "name": "python3",
      "display_name": "Python 3"
    },
    "language_info": {
      "name": "python"
    }
  },
  "cells": [
    {
      "cell_type": "markdown",
      "source": [
        "# Tugas 2 - Implementasi Arsitektur Transformer"
      ],
      "metadata": {
        "id": "BgZvxJNTSkOj"
      }
    },
    {
      "cell_type": "markdown",
      "source": [
        "nama"
      ],
      "metadata": {
        "id": "em0Kia2LTEH8"
      }
    },
    {
      "cell_type": "markdown",
      "source": [
        "## Library Numpy"
      ],
      "metadata": {
        "id": "Ij2xlfEGTnFy"
      }
    },
    {
      "cell_type": "code",
      "execution_count": 127,
      "metadata": {
        "id": "A46Sg7XMRgkj"
      },
      "outputs": [],
      "source": [
        "import numpy as np"
      ]
    },
    {
      "cell_type": "markdown",
      "source": [
        "## Token Embedding"
      ],
      "metadata": {
        "id": "oHK20g5BTx2f"
      }
    },
    {
      "cell_type": "markdown",
      "source": [
        "Token Embedding berfungsi untuk mengubah indeks token hasil tokenisasi menjadi representasi vektor berdimensi tinggi (`d_model`).\n",
        "Setiap token memiliki vektor unik yang disimpan dalam sebuah matriks embedding berukuran (`vocab_size`, `d_model`), di mana:\n",
        "\n",
        "\n",
        "\n",
        "*   `vocab_size` adalah jumlah total token unik dalam kosakata,\n",
        "*   `d_model` adalah dimensi representasi vektor untuk setiap token.\n",
        "\n",
        "\n",
        "Bobot pada matriks embedding diinisialisasi secara acak dan dibagi dengan √d_model agar nilai awalnya tetap stabil (menghindari nilai yang terlalu besar atau kecil).\n",
        "\n",
        "Setelah itu, saat input berupa urutan token (misalnya [2, 5, 8]), model akan mengambil baris ke-2, ke-5, dan ke-8 dari matriks embedding untuk menghasilkan representasi vektor yang setara."
      ],
      "metadata": {
        "id": "0kvAXcVfaCnd"
      }
    },
    {
      "cell_type": "code",
      "source": [
        "class TokenEmbedding:\n",
        "    def __init__(self, vocab_size, d_model):\n",
        "        self.vocab_size = vocab_size\n",
        "        self.d_model = d_model\n",
        "        self.embeddings = np.random.randn(vocab_size, d_model) / np.sqrt(d_model)\n",
        "\n",
        "    def __call__(self, x):\n",
        "        return self.embeddings[x]\n"
      ],
      "metadata": {
        "id": "ofy-EF9YRpl-"
      },
      "execution_count": 128,
      "outputs": []
    },
    {
      "cell_type": "markdown",
      "source": [
        "## Positional Encoding (Sinusoidal)"
      ],
      "metadata": {
        "id": "yL-XVl1-Tz0A"
      }
    },
    {
      "cell_type": "markdown",
      "source": [
        "Positional Encoding digunakan untuk memberikan informasi posisi pada setiap token dalam sebuah urutan.\n",
        "Karena arsitektur Transformer tidak memproses data secara berurutan seperti RNN,\n",
        "model ini memerlukan representasi eksplisit dari posisi token agar dapat memahami urutan dan hubungan antar kata.\n",
        "\n",
        "Positional Encoding menghasilkan vektor berdimensi sama dengan token embedding ($d_{model}$),\n",
        "sehingga dapat dijumlahkan secara langsung dengan hasil embedding token.\n",
        "Nilai pada encoding ini dihitung menggunakan fungsi sinus dan kosinus dengan frekuensi yang berbeda untuk setiap dimensi,\n",
        "dengan rumus sebagai berikut:\n",
        "\n",
        "\\begin{equation}\n",
        "PE_{(pos, 2i)} = \\sin\\left(\\frac{pos}{10000^{2i/d_{model}}}\\right)\n",
        "\\end{equation}\n",
        "\n",
        "\\begin{equation}\n",
        "PE_{(pos, 2i+1)} = \\cos\\left(\\frac{pos}{10000^{2i/d_{model}}}\\right)\n",
        "\\end{equation}\n",
        "\n",
        "dengan:\n",
        "\n",
        "* $pos$ adalah posisi token dalam urutan (misalnya 0, 1, 2),\n",
        "* $i$ adalah indeks dimensi dari vektor embedding.\n",
        "\n",
        "\n",
        "Fungsi sinus dan kosinus dengan frekuensi berbeda ini memastikan setiap posisi memiliki pola representasi yang unik,\n",
        "dan perbedaan antar posisi tetap dapat dikenali oleh model.\n",
        "Dengan demikian, model Transformer mampu menangkap hubungan relatif antar token (misalnya jarak antar kata dalam kalimat).\n"
      ],
      "metadata": {
        "id": "KIqMzXc_aUT1"
      }
    },
    {
      "cell_type": "code",
      "source": [
        "class PositionalEncoding:\n",
        "    def __init__(self, d_model, max_len=5000):\n",
        "        pe = np.zeros((max_len, d_model))\n",
        "        position = np.arange(0, max_len)[:, np.newaxis]\n",
        "        div_term = np.exp(np.arange(0, d_model, 2) * -(np.log(10000.0) / d_model))\n",
        "        pe[:, 0::2] = np.sin(position * div_term)\n",
        "        pe[:, 1::2] = np.cos(position * div_term)\n",
        "        self.pe = pe\n",
        "\n",
        "    def __call__(self, x):\n",
        "        seq_len = x.shape[1]\n",
        "        return x + self.pe[:seq_len]\n"
      ],
      "metadata": {
        "id": "isYIo3HQRriS"
      },
      "execution_count": 129,
      "outputs": []
    },
    {
      "cell_type": "markdown",
      "source": [
        "##Scaled Dot-Product Attention"
      ],
      "metadata": {
        "id": "6YHJrxKjT3fE"
      }
    },
    {
      "cell_type": "markdown",
      "source": [
        "Mekanisme *Scaled Dot-Product Attention* merupakan komponen utama dalam arsitektur Transformer\n",
        "yang memungkinkan model untuk memfokuskan perhatian *attention* pada token-token tertentu dalam suatu urutan input.\n",
        "Konsep utamanya adalah menghitung seberapa besar relevansi antara setiap pasangan token melalui operasi dot product antar vektor.\n",
        "\n",
        "Setiap token diubah menjadi tiga representasi vektor berbeda:\n",
        "\n",
        "* Query ($Q$) – merepresentasikan token yang sedang diperhatikan,\n",
        "* Key ($K$) – merepresentasikan token yang menjadi referensi atau konteks,\n",
        "* Value ($V$) – membawa informasi aktual dari token.\n",
        "\n",
        "\n",
        "Skor perhatian dihitung dengan melakukan operasi dot product antara setiap pasangan $Q$ dan $K$,\n",
        "yang kemudian diskalakan dengan faktor $\\sqrt{d_k}$ untuk menstabilkan nilai gradien ketika dimensi vektor besar.  \n",
        "Langkah-langkah perhitungannya dapat dirumuskan sebagai berikut:\n",
        "\n",
        "\\begin{equation}\n",
        "\\text{Attention}(Q, K, V) = \\text{softmax}\\left( \\frac{QK^{T}}{\\sqrt{d_k}} \\right) V\n",
        "\\end{equation}\n",
        "\n",
        "dengan:\n",
        "* $Q$ : matriks *query* berukuran $(n_{query} \\times d_k)$,\n",
        "* $K$ : matriks *key* berukuran $(n_{key} \\times d_k)$,\n",
        "* $V$ : matriks *value* berukuran $(n_{key} \\times d_v)$,\n",
        "* $d_k$ : dimensi vektor *key* dan *query*.\n",
        "\n",
        "Proses perhitungan:\n",
        "\n",
        "* Hitung skor kesesuaian antara setiap token query dan seluruh token key menggunakan operasi $QK^{T}$.\n",
        "* Skor kemudian dibagi dengan $\\sqrt{d_k}$ untuk menghindari nilai dot product yang terlalu besar.\n",
        "* Terapkan fungsi *softmax* untuk mengubah skor menjadi distribusi probabilitas perhatian.\n",
        "* Kalikan hasil distribusi dengan matriks $V$ untuk menghasilkan representasi kontekstual akhir.\n",
        "\n",
        "Mekanisme ini memungkinkan setiap token untuk menyesuaikan bobot perhatian terhadap token lain,\n",
        "sehingga model dapat menangkap hubungan antar kata yang jauh dalam sebuah kalimat tanpa kehilangan konteks lokal.\n"
      ],
      "metadata": {
        "id": "ih_5yivAbPkZ"
      }
    },
    {
      "cell_type": "code",
      "source": [
        "def scaled_dot_product_attention(Q, K, V, mask=None, visualize=False):\n",
        "    d_k = Q.shape[-1]\n",
        "    scores = np.matmul(Q, K.transpose(0,1,3,2)) / np.sqrt(d_k)\n",
        "\n",
        "    if mask is not None:\n",
        "        scores = scores + (mask * -1e9)\n",
        "\n",
        "    scores_exp = np.exp(scores - np.max(scores, axis=-1, keepdims=True))\n",
        "    weights = scores_exp / np.sum(scores_exp, axis=-1, keepdims=True)\n",
        "\n",
        "    output = np.matmul(weights, V)\n",
        "\n",
        "    if visualize:\n",
        "        attn_map = weights[0, 0]\n",
        "        plt.figure(figsize=(5,4))\n",
        "        plt.imshow(attn_map, cmap='viridis', interpolation='nearest')\n",
        "        plt.title(\"Attention weights (batch=0, head=0)\")\n",
        "        plt.xlabel(\"Key positions\")\n",
        "        plt.ylabel(\"Query positions\")\n",
        "        plt.colorbar(label=\"attention\")\n",
        "        plt.show()\n",
        "\n",
        "    return output, weights"
      ],
      "metadata": {
        "id": "FVNtW-flRsyO"
      },
      "execution_count": 130,
      "outputs": []
    },
    {
      "cell_type": "markdown",
      "source": [
        "## Multi-Head Attention"
      ],
      "metadata": {
        "id": "idNbsifxT6fp"
      }
    },
    {
      "cell_type": "markdown",
      "source": [
        "*Multi-Head Attention* merupakan pengembangan dari mekanisme *Scaled Dot-Product Attention*\n",
        "yang memungkinkan model untuk memperhatikan berbagai konteks atau hubungan antar token secara paralel.  \n",
        "Alih-alih hanya memiliki satu set vektor $Q$, $K$, dan $V$,\n",
        "pada *Multi-Head Attention* vektor-vektor tersebut dibagi menjadi beberapa *head*,\n",
        "sehingga model dapat mempelajari informasi dari berbagai representasi subruang (*subspaces*) yang berbeda.\n",
        "\n",
        "Secara formal, prosesnya dapat dijelaskan sebagai berikut.  \n",
        "Pertama, untuk setiap *head* $i$, dilakukan proyeksi linear terhadap input menjadi vektor $Q_i$, $K_i$, dan $V_i$:\n",
        "\n",
        "\\begin{equation}\n",
        "Q_i = XW_i^Q, \\quad K_i = XW_i^K, \\quad V_i = XW_i^V\n",
        "\\end{equation}\n",
        "\n",
        "dengan:\n",
        "* $X$ adalah input embedding atau hasil dari lapisan sebelumnya,\n",
        "* $W_i^Q, W_i^K, W_i^V$ adalah matriks bobot proyeksi untuk head ke-$i$.\n",
        "\n",
        "Setiap *head* kemudian menghitung *Scaled Dot-Product Attention* secara independen:\n",
        "\n",
        "\\begin{equation}\n",
        "\\text{head}_i = \\text{Attention}(Q_i, K_i, V_i) = \\text{softmax}\\left( \\frac{Q_i K_i^T}{\\sqrt{d_k}} \\right) V_i\n",
        "\\end{equation}\n",
        "\n",
        "Hasil dari seluruh *head* kemudian dikonkatenasi dan diproyeksikan kembali ke ruang berdimensi $d_{model}$:\n",
        "\n",
        "\\begin{equation}\n",
        "\\text{MultiHead}(Q, K, V) = \\text{Concat}(\\text{head}_1, \\text{head}_2, \\ldots, \\text{head}_h) W^O\n",
        "\\end{equation}\n",
        "\n",
        "dengan:\n",
        "\n",
        "* $h$ adalah jumlah *head*,\n",
        "* $W^O$ adalah matriks bobot output untuk menggabungkan hasil seluruh *head*.\n"
      ],
      "metadata": {
        "id": "_rfybHSicYGX"
      }
    },
    {
      "cell_type": "code",
      "source": [
        "class MultiHeadAttention:\n",
        "    def __init__(self, d_model, num_heads):\n",
        "        assert d_model % num_heads == 0\n",
        "        self.d_model = d_model\n",
        "        self.num_heads = num_heads\n",
        "        self.depth = d_model // num_heads\n",
        "\n",
        "        self.Wq = np.random.randn(d_model, d_model) / np.sqrt(d_model)\n",
        "        self.Wk = np.random.randn(d_model, d_model) / np.sqrt(d_model)\n",
        "        self.Wv = np.random.randn(d_model, d_model) / np.sqrt(d_model)\n",
        "        self.Wo = np.random.randn(d_model, d_model) / np.sqrt(d_model)\n",
        "\n",
        "    def split_heads(self, x):\n",
        "        batch, seq_len, d_model = x.shape\n",
        "        x = x.reshape(batch, seq_len, self.num_heads, self.depth)\n",
        "        return x.transpose(0, 2, 1, 3)\n",
        "\n",
        "    def __call__(self, Q, K, V, mask=None, visualize=False):\n",
        "        Q = np.matmul(Q, self.Wq)\n",
        "        K = np.matmul(K, self.Wk)\n",
        "        V = np.matmul(V, self.Wv)\n",
        "\n",
        "        Qh = self.split_heads(Q)\n",
        "        Kh = self.split_heads(K)\n",
        "        Vh = self.split_heads(V)\n",
        "\n",
        "        attn_out, attn_weights = scaled_dot_product_attention(Qh, Kh, Vh, mask, visualize=visualize)\n",
        "\n",
        "        attn_out = attn_out.transpose(0, 2, 1, 3).reshape(Q.shape[0], -1, self.d_model)\n",
        "        out = np.matmul(attn_out, self.Wo)\n",
        "        return out"
      ],
      "metadata": {
        "id": "HQh35g9bRuPa"
      },
      "execution_count": 131,
      "outputs": []
    },
    {
      "cell_type": "markdown",
      "source": [
        "## Feed Forward Network"
      ],
      "metadata": {
        "id": "kDVZ4rECT84x"
      }
    },
    {
      "cell_type": "markdown",
      "source": [
        "Setelah proses *Multi-Head Attention*, setiap token dalam urutan masukan diproses secara independen oleh\n",
        "*Feed Forward Network* (FFN).\n",
        "Komponen ini berfungsi untuk melakukan transformasi non-linear pada representasi tiap token,\n",
        "sehingga model dapat mempelajari hubungan yang lebih kompleks antar fitur dalam ruang representasi.\n",
        "\n",
        "Feed Forward Network terdiri atas dua lapisan linear dengan fungsi aktivasi non-linear (*Rectified Linear Unit* atau ReLU) di antara keduanya.\n",
        "Secara matematis, operasi FFN dapat dituliskan sebagai berikut:\n",
        "\n",
        "\\begin{equation}\n",
        "\\text{FFN}(x) = \\max(0,\\, xW_1 + b_1)W_2 + b_2\n",
        "\\end{equation}\n",
        "\n",
        "dengan:\n",
        "* $x$ : representasi input dari setiap token (berukuran $d_{model}$),\n",
        "* $W_1 \\in \\mathbb{R}^{d_{model} \\times d_{ff}}$ dan $W_2 \\in \\mathbb{R}^{d_{ff} \\times d_{model}}$ : matriks bobot lapisan pertama dan kedua,\n",
        "* $b_1$ dan $b_2$ : vektor bias untuk masing-masing lapisan,\n",
        "* $d_{ff}$ : dimensi ruang tersembunyi (\\textit{hidden dimension}), biasanya lebih besar dari $d_{model}$.\n",
        "\n",
        "Lapisan pertama memperluas dimensi representasi dari $d_{model}$ menjadi $d_{ff}$,\n",
        "sedangkan lapisan kedua mengembalikannya kembali ke ukuran semula.\n",
        "Fungsi aktivasi ReLU ($\\max(0, \\cdot)$) memberikan sifat non-linear yang membantu model dalam menangkap pola yang lebih kompleks dan meningkatkan kemampuan generalisasi.\n",
        "\n",
        "Karakteristik:\n",
        "* FFN diaplikasikan secara identik dan independen pada setiap posisi token.\n",
        "* Tidak ada interaksi antar token di dalam FFN, sehingga operasi ini bersifat *position-wise*.\n",
        "* Kombinasi antara *Multi-Head Attention* dan FFN membentuk satu blok utama (*Transformer Block*) dalam arsitektur Transformer.\n"
      ],
      "metadata": {
        "id": "n_8u7ygEdvAA"
      }
    },
    {
      "cell_type": "code",
      "source": [
        "class FeedForward:\n",
        "    def __init__(self, d_model, d_ff):\n",
        "        self.W1 = np.random.randn(d_model, d_ff) / np.sqrt(d_model)\n",
        "        self.b1 = np.zeros((d_ff,))\n",
        "        self.W2 = np.random.randn(d_ff, d_model) / np.sqrt(d_ff)\n",
        "        self.b2 = np.zeros((d_model,))\n",
        "\n",
        "    def __call__(self, x):\n",
        "        h = np.maximum(0, x @ self.W1 + self.b1)\n",
        "        return h @ self.W2 + self.b2"
      ],
      "metadata": {
        "id": "Pg6iUKwtRwy5"
      },
      "execution_count": 132,
      "outputs": []
    },
    {
      "cell_type": "markdown",
      "source": [
        "## Layer Normalization"
      ],
      "metadata": {
        "id": "fnkZbgDtUL2E"
      }
    },
    {
      "cell_type": "markdown",
      "source": [
        "*Layer Normalization* merupakan teknik normalisasi yang digunakan dalam setiap blok Transformer\n",
        "untuk menstabilkan distribusi aktivasi dan mempercepat proses pelatihan.  \n",
        "Berbeda dengan *Batch Normalization* yang melakukan normalisasi antar sampel dalam satu batch,\n",
        "*Layer Normalization* bekerja dengan menormalkan nilai aktivasi di sepanjang dimensi fitur untuk setiap token secara individual.\n",
        "\n",
        "Secara matematis, operasi *Layer Normalization* terhadap sebuah vektor input $x \\in \\mathbb{R}^{d_{model}}$ didefinisikan sebagai:\n",
        "\n",
        "\\begin{equation}\n",
        "\\text{LayerNorm}(x) = \\gamma \\left( \\frac{x - \\mu}{\\sqrt{\\sigma^2 + \\epsilon}} \\right) + \\beta\n",
        "\\end{equation}\n",
        "\n",
        "dengan:\n",
        "* $\\mu = \\frac{1}{d_{model}} \\sum_{i=1}^{d_{model}} x_i$ : rata-rata nilai fitur,\n",
        "* $\\sigma^2 = \\frac{1}{d_{model}} \\sum_{i=1}^{d_{model}} (x_i - \\mu)^2$ : varians nilai fitur,\n",
        "* $\\epsilon$ : nilai kecil untuk mencegah pembagian dengan nol,\n",
        "* $\\gamma$ dan $\\beta$ : parameter yang dapat dipelajari untuk melakukan skala dan pergeseran (re-scaling dan re-centering).\n",
        "\n",
        "Tujuan:\n",
        "\n",
        "Normalisasi ini memastikan bahwa distribusi nilai aktivasi tetap stabil di setiap lapisan,\n",
        "mengurangi masalah seperti *vanishing* atau *exploding gradient*,\n",
        "dan membantu model mencapai konvergensi yang lebih cepat selama proses pelatihan.\n",
        "\n",
        "Penerapan pada Transformer:\n",
        "\n",
        "Dalam arsitektur Transformer, *Layer Normalization* diterapkan sebelum atau sesudah operasi utama seperti\n",
        "*Multi-Head Attention* dan *Feed Forward Network*,\n",
        "sering kali dalam kombinasi dengan *residual connection8 sebagai berikut:\n",
        "\n",
        "\\begin{equation}\n",
        "x' = \\text{LayerNorm}(x + \\text{Sublayer}(x))\n",
        "\\end{equation}\n",
        "\n",
        "dengan $\\text{Sublayer}(x)$ merupakan salah satu komponen utama Transformer (seperti MHA atau FFN).\n",
        "Kombinasi antara residual connection dan normalisasi menjaga stabilitas informasi antar lapisan serta memperbaiki aliran gradien selama pelatihan.\n"
      ],
      "metadata": {
        "id": "RXhWJAhKejDr"
      }
    },
    {
      "cell_type": "code",
      "source": [
        "class LayerNorm:\n",
        "    def __init__(self, d_model, eps=1e-6):\n",
        "        self.gamma = np.ones((d_model,))\n",
        "        self.beta = np.zeros((d_model,))\n",
        "        self.eps = eps\n",
        "\n",
        "    def __call__(self, x):\n",
        "        mean = np.mean(x, axis=-1, keepdims=True)\n",
        "        var = np.var(x, axis=-1, keepdims=True)\n",
        "        return self.gamma * (x - mean) / np.sqrt(var + self.eps) + self.beta"
      ],
      "metadata": {
        "id": "i4SHHh93RzLy"
      },
      "execution_count": 133,
      "outputs": []
    },
    {
      "cell_type": "markdown",
      "source": [
        "## Decoder Block (dengan Causal Mask)"
      ],
      "metadata": {
        "id": "hFgqP_TCUPe-"
      }
    },
    {
      "cell_type": "markdown",
      "source": [
        "*Decoder Block* merupakan komponen utama dari bagian *decoder* pada arsitektur Transformer.  \n",
        "Setiap blok terdiri dari beberapa sublapisan, yaitu:\n",
        "* *Masked Multi-Head Self-Attention* dengan *causal mask*,\n",
        "* *Feed Forward Network* (FFN),\n",
        "* serta *Layer Normalization* dan *Residual Connection* pada setiap sublapisan.\n",
        "\n",
        "Fungsi utama:\n",
        "\n",
        "Decoder berperan menghasilkan token keluaran secara autoregresif,\n",
        "artinya setiap token hanya boleh bergantung pada token-token sebelumnya dalam urutan output.  \n",
        "Untuk menerapkan sifat ini, digunakan **causal mask** yang menutupi (*mask*) posisi masa depan dalam perhitungan perhatian.\n",
        "\n",
        "Causal Mask:\n",
        "\n",
        "Causal mask adalah matriks segitiga atas (*upper-triangular matrix*) yang berisi nilai nol di bawah diagonal dan satu di atasnya.\n",
        "Matriks ini digunakan untuk mencegah model melihat token masa depan.  \n",
        "Secara matematis, mask dapat dituliskan sebagai:\n",
        "\n",
        "\\begin{equation}\n",
        "M_{ij} =\n",
        "\\begin{cases}\n",
        "0, & \\text{jika } j \\leq i \\\\\n",
        "1, & \\text{jika } j > i\n",
        "\\end{cases}\n",
        "\\end{equation}\n",
        "\n",
        "Mask ini kemudian diterapkan pada skor perhatian sebelum fungsi *softmax* sebagai berikut:\n",
        "\n",
        "\\begin{equation}\n",
        "\\text{Attention}(Q, K, V) = \\text{softmax}\\left( \\frac{QK^{T}}{\\sqrt{d_k}} + M \\right)V\n",
        "\\end{equation}\n",
        "\n",
        "Posisi dengan nilai 1 (di atas diagonal) akan diberikan penalti sangat besar (biasanya $-10^9$),\n",
        "sehingga hasil *softmax* pada posisi tersebut mendekati nol.  \n",
        "Dengan demikian, setiap token hanya dapat memperhatikan dirinya sendiri dan token sebelumnya.\n",
        "\n",
        "Struktur Decoder Block:\n",
        "Setiap blok decoder memiliki aliran data sebagai berikut:\n",
        "\n",
        "\\begin{equation}\n",
        "\\begin{aligned}\n",
        "x_1 &= \\text{LayerNorm}(x + \\text{MaskedMultiHeadAttention}(x, x, x, M)) \\\\\n",
        "x_2 &= \\text{LayerNorm}(x_1 + \\text{FeedForward}(x_1))\n",
        "\\end{aligned}\n",
        "\\end{equation}\n",
        "\n",
        "Pada persamaan tersebut:\n",
        "* $x$ : representasi input token yang telah melalui embedding dan positional encoding,\n",
        "* $M$ : *causal mask*,\n",
        "* $\\text{MaskedMultiHeadAttention}$ : operasi perhatian dengan pembatasan pada masa depan,\n",
        "* $\\text{FeedForward}$ : jaringan non-linear untuk transformasi representasi.\n",
        "\n",
        "Intuisi:\n",
        "Dengan penerapan *causal mask*, setiap token dalam decoder hanya dapat mengakses informasi dari token yang muncul sebelumnya.\n",
        "Hal ini memastikan bahwa prediksi dilakukan secara bertahap, menyerupai cara kerja model generatif autoregresif seperti GPT,\n",
        "di mana token di posisi $t$ hanya dipengaruhi oleh token di posisi $<t$.\n",
        "\n",
        "Kesimpulan:\n",
        "\n",
        "*Decoder Block* dengan *Causal Mask* memastikan aliran informasi bersifat satu arah (kiri ke kanan),\n",
        "mempertahankan sifat autoregresif Transformer, dan memungkinkan proses prediksi token secara berurutan tanpa kebocoran informasi dari masa depan.\n"
      ],
      "metadata": {
        "id": "r5ablh-MfSsn"
      }
    },
    {
      "cell_type": "code",
      "source": [
        "class DecoderBlock:\n",
        "    def __init__(self, d_model, num_heads, d_ff):\n",
        "        self.mha = MultiHeadAttention(d_model, num_heads)\n",
        "        self.ffn = FeedForward(d_model, d_ff)\n",
        "        self.norm1 = LayerNorm(d_model)\n",
        "        self.norm2 = LayerNorm(d_model)\n",
        "\n",
        "    def __call__(self, x, mask, visualize=False):\n",
        "        attn_out = self.mha(x, x, x, mask, visualize=visualize)\n",
        "        x = self.norm1(x + attn_out)\n",
        "        ffn_out = self.ffn(x)\n",
        "        x = self.norm2(x + ffn_out)\n",
        "        return x"
      ],
      "metadata": {
        "id": "oEwHgaKmR00I"
      },
      "execution_count": 134,
      "outputs": []
    },
    {
      "cell_type": "markdown",
      "source": [
        "## Rotary Positional Encoding (RoPE)"
      ],
      "metadata": {
        "id": "exIzlLTFnave"
      }
    },
    {
      "cell_type": "markdown",
      "source": [
        "Sebagai alternatif dari *sinusoidal positional encoding*,\n",
        "Rotary Positional Encoding (RoPE) memperkenalkan informasi posisi relatif\n",
        "melalui rotasi vektor embedding pada ruang dua dimensi untuk setiap pasangan dimensi fitur.\n",
        "\n",
        "RoPE tidak menambahkan nilai posisi secara langsung ke embedding,\n",
        "melainkan menerapkan transformasi rotasi berikut pada setiap pasangan dimensi:\n",
        "\n",
        "\\begin{equation}\n",
        "\\text{RoPE}(x, pos) =\n",
        "\\begin{bmatrix}\n",
        "x_{2i} \\cos \\theta_{pos, i} - x_{2i+1} \\sin \\theta_{pos, i} \\\\\n",
        "x_{2i} \\sin \\theta_{pos, i} + x_{2i+1} \\cos \\theta_{pos, i}\n",
        "\\end{bmatrix}\n",
        "\\end{equation}\n",
        "\n",
        "dengan:\n",
        "\\begin{equation}\n",
        "\\theta_{pos, i} = \\frac{pos}{10000^{2i/d_{model}}}\n",
        "\\end{equation}\n",
        "\n",
        "Pendekatan ini membuat Transformer mampu mengenali hubungan posisi relatif antar token,\n",
        "yang terbukti meningkatkan generalisasi dan efisiensi model pada berbagai tugas generatif.\n"
      ],
      "metadata": {
        "id": "dJjSHRo0neVe"
      }
    },
    {
      "cell_type": "code",
      "source": [
        "class RotaryPositionalEncoding:\n",
        "    def __init__(self, d_model, max_len=5000):\n",
        "        assert d_model % 2 == 0, \"d_model harus genap untuk RoPE\"\n",
        "        self.d_model = d_model\n",
        "        self.max_len = max_len\n",
        "        self.inv_freq = 1.0 / (10000 ** (np.arange(0, d_model, 2) / d_model))\n",
        "\n",
        "    def get_angles(self, positions):\n",
        "        return np.einsum('i,j->ij', positions, self.inv_freq)\n",
        "\n",
        "    def __call__(self, x):\n",
        "        batch, seq_len, d_model = x.shape\n",
        "        positions = np.arange(seq_len)\n",
        "        angles = self.get_angles(positions)\n",
        "        sin, cos = np.sin(angles), np.cos(angles)\n",
        "        sin = np.repeat(sin[np.newaxis, :, :], batch, axis=0)\n",
        "        cos = np.repeat(cos[np.newaxis, :, :], batch, axis=0)\n",
        "\n",
        "        x1 = x[:, :, 0::2]\n",
        "        x2 = x[:, :, 1::2]\n",
        "\n",
        "        x_rot = np.zeros_like(x)\n",
        "        x_rot[:, :, 0::2] = x1 * cos - x2 * sin\n",
        "        x_rot[:, :, 1::2] = x1 * sin + x2 * cos\n",
        "\n",
        "        return x_rot\n"
      ],
      "metadata": {
        "id": "IQ0tOkm1mWpd"
      },
      "execution_count": 135,
      "outputs": []
    },
    {
      "cell_type": "markdown",
      "source": [
        "## Full Decoder Transformer Model"
      ],
      "metadata": {
        "id": "B5N43nMOUThr"
      }
    },
    {
      "cell_type": "markdown",
      "source": [
        "*Transformer Decoder* merupakan komponen utama dalam arsitektur Transformer yang berfungsi menghasilkan keluaran (*output sequence*) secara autoregresif,\n",
        "yaitu dengan memprediksi satu token pada satu waktu berdasarkan konteks token-token sebelumnya.  \n",
        "Arsitektur ini terdiri atas beberapa blok decoder yang disusun secara berurutan, di mana setiap blok memiliki komponen inti berupa:\n",
        "* *Masked Multi-Head Self-Attention* dengan *causal mask,\n",
        "* *Feed Forward Network* (FFN),\n",
        "*  serta *Layer Normalization* dan *Residual Connection*.\n",
        "\n",
        "Struktur umum model:\n",
        "\n",
        "Sebelum memasuki blok decoder, setiap token input terlebih dahulu diubah menjadi representasi vektor melalui *token embedding* dan ditambahkan dengan *positional encoding* untuk memasukkan informasi urutan posisi.  \n",
        "Secara matematis:\n",
        "\n",
        "\\begin{equation}\n",
        "X_0 = \\text{TokenEmbedding}(input) + \\text{PositionalEncoding}(input)\n",
        "\\end{equation}\n",
        "\n",
        "Selanjutnya, representasi $X_0$ melewati $N$ buah blok decoder secara berurutan:\n",
        "\n",
        "\\begin{equation}\n",
        "X_l = \\text{DecoderBlock}(X_{l-1}), \\quad l = 1, 2, \\ldots, N\n",
        "\\end{equation}\n",
        "\n",
        "Setiap *DecoderBlock* menggunakan *Causal Mask* agar setiap token hanya memperhatikan token sebelumnya.\n",
        "Setelah melalui seluruh blok, keluaran akhir $X_N$ diproyeksikan ke ruang vektor kosakata (*vocabulary space*) menggunakan lapisan linear yang bobotnya sering kali diikat (*weight tying*) dengan matriks embedding awal:\n",
        "\n",
        "\\begin{equation}\n",
        "\\text{Logits} = X_N W_E^T\n",
        "\\end{equation}\n",
        "\n",
        "dengan:\n",
        "\n",
        "* $W_E$ : matriks bobot embedding berukuran $(vocab\\_size \\times d_{model})$,\n",
        "* $\\text{Logits}$ : representasi skor sebelum fungsi *softmax*.\n",
        "\n",
        "Distribusi probabilitas token keluaran diperoleh melalui fungsi *softmax*:\n",
        "\n",
        "\\begin{equation}\n",
        "P(y_t|y_{<t}) = \\text{softmax}(\\text{Logits})\n",
        "\\end{equation}\n",
        "\n",
        "Proses ini kemudian diulang secara autoregresif untuk setiap langkah $t$,\n",
        "di mana token hasil prediksi pada langkah sebelumnya digunakan sebagai masukan untuk langkah berikutnya.\n",
        "\n",
        "Ringkasan alur data:\n",
        "\n",
        "* Token input diubah menjadi embedding dan ditambahkan dengan positional encoding.\n",
        "* Representasi hasilnya melewati $N$ buah blok decoder secara berurutan.\n",
        "* Setiap blok terdiri dari:\n",
        "  * Masked Multi-Head Self-Attention (dengan Causal Mask),\n",
        "  * Feed Forward Network (FFN),\n",
        "  * Layer Normalization dan Residual Connection.\n",
        "* Output terakhir diproyeksikan ke ruang kosakata untuk menghasilkan distribusi probabilitas token berikutnya.\n",
        "\n",
        "Causal Masking:\n",
        "\n",
        "Causal Mask memastikan bahwa token pada posisi $t$ hanya dapat mengakses informasi dari token posisi $<t$,\n",
        "sehingga model memproses urutan secara satu arah (*left-to-right*).  \n",
        "Hal ini menjadikan Decoder Transformer cocok untuk tugas-tugas generatif seperti prediksi teks atau penyusunan kalimat.\n",
        "\n",
        "Kesimpulan:\n",
        "\n",
        "*Full Decoder Transformer Model* memanfaatkan mekanisme perhatian berlapis yang dilengkapi dengan normalisasi, koneksi residual, dan causal masking.\n",
        "Kombinasi ini memungkinkan model untuk memahami konteks jangka panjang dan menghasilkan token secara berurutan tanpa kebocoran informasi dari masa depan.\n"
      ],
      "metadata": {
        "id": "AbddPYfChE9N"
      }
    },
    {
      "cell_type": "code",
      "source": [
        "class TransformerDecoder:\n",
        "    def __init__(self, vocab_size, d_model, num_heads, d_ff, num_layers, max_len=100, use_rope=False):\n",
        "        self.token_emb = TokenEmbedding(vocab_size, d_model)\n",
        "        self.use_rope = use_rope\n",
        "\n",
        "        if use_rope:\n",
        "            self.pos_enc = RotaryPositionalEncoding(d_model, max_len)\n",
        "        else:\n",
        "            self.pos_enc = PositionalEncoding(d_model, max_len)\n",
        "\n",
        "        self.layers = [DecoderBlock(d_model, num_heads, d_ff) for _ in range(num_layers)]\n",
        "        self.out_proj = self.token_emb.embeddings.T\n",
        "\n",
        "    def causal_mask(self, seq_len):\n",
        "        mask = np.triu(np.ones((1,1,seq_len,seq_len)), k=1)\n",
        "        return mask\n",
        "\n",
        "    def __call__(self, x, visualize=False):\n",
        "        x = self.token_emb(x)\n",
        "        x = self.pos_enc(x)\n",
        "        mask = self.causal_mask(x.shape[1])\n",
        "        for i, layer in enumerate(self.layers):\n",
        "            visualize_layer = visualize and (i == 0)\n",
        "            x = layer(x, mask, visualize=visualize_layer)\n",
        "        logits = np.matmul(x, self.out_proj)\n",
        "        probs = np.exp(logits - np.max(logits, axis=-1, keepdims=True))\n",
        "        probs = probs / np.sum(probs, axis=-1, keepdims=True)\n",
        "        return logits, probs, mask"
      ],
      "metadata": {
        "id": "nISSdF_RR2Wh"
      },
      "execution_count": 136,
      "outputs": []
    },
    {
      "cell_type": "markdown",
      "source": [
        "## Pengujian dan Bukti Uji"
      ],
      "metadata": {
        "id": "vLVGD1MvUZiC"
      }
    },
    {
      "cell_type": "markdown",
      "source": [
        "### Menggunakan Sinusoidal"
      ],
      "metadata": {
        "id": "3h786brGnlER"
      }
    },
    {
      "cell_type": "code",
      "source": [
        "vocab_size = 50\n",
        "d_model = 32\n",
        "num_heads = 4\n",
        "d_ff = 64\n",
        "num_layers = 2\n",
        "seq_len = 5\n",
        "batch_size = 2\n",
        "\n",
        "model = TransformerDecoder(vocab_size, d_model, num_heads, d_ff, num_layers, max_len=seq_len, use_rope=False)\n",
        "input_tokens = np.random.randint(0, vocab_size, (batch_size, seq_len))\n",
        "\n",
        "logits, probs, mask = model(input_tokens, visualize=True)\n"
      ],
      "metadata": {
        "colab": {
          "base_uri": "https://localhost:8080/",
          "height": 410
        },
        "id": "s9H5nP1mR5Lz",
        "outputId": "2d9306d2-aa25-4e05-e6e3-c3bece22ce5b"
      },
      "execution_count": 137,
      "outputs": [
        {
          "output_type": "display_data",
          "data": {
            "text/plain": [
              "<Figure size 500x400 with 2 Axes>"
            ],
            "image/png": "[encoded data removed]"
          },
          "metadata": {}
        }
      ]
    },
    {
      "cell_type": "code",
      "source": [
        "print(\"Input tokens:\\n\", input_tokens)\n",
        "print(\"Logits shape:\", logits.shape)\n",
        "print(\"Probs shape:\", probs.shape)\n",
        "print(\"Causal mask:\\n\", mask[0,0])"
      ],
      "metadata": {
        "colab": {
          "base_uri": "https://localhost:8080/"
        },
        "id": "KZD9XCb4lN9X",
        "outputId": "b9b51393-39a2-499b-e160-6b8f9c43ecda"
      },
      "execution_count": 138,
      "outputs": [
        {
          "output_type": "stream",
          "name": "stdout",
          "text": [
            "Input tokens:\n",
            " [[24 21 32 39 28]\n",
            " [ 4 41 37 10 40]]\n",
            "Logits shape: (2, 5, 50)\n",
            "Probs shape: (2, 5, 50)\n",
            "Causal mask:\n",
            " [[0. 1. 1. 1. 1.]\n",
            " [0. 0. 1. 1. 1.]\n",
            " [0. 0. 0. 1. 1.]\n",
            " [0. 0. 0. 0. 1.]\n",
            " [0. 0. 0. 0. 0.]]\n"
          ]
        }
      ]
    },
    {
      "cell_type": "code",
      "source": [
        "print(\"Softmax output (last token):\\n\", probs[:, -1, :])"
      ],
      "metadata": {
        "colab": {
          "base_uri": "https://localhost:8080/"
        },
        "id": "ZfnTdKhWR9F0",
        "outputId": "c33a2b79-2c4c-42fc-8ac5-9d1ca265de82"
      },
      "execution_count": 139,
      "outputs": [
        {
          "output_type": "stream",
          "name": "stdout",
          "text": [
            "Softmax output (last token):\n",
            " [[0.00548826 0.00258694 0.02340668 0.02311187 0.00361226 0.00856798\n",
            "  0.03248516 0.0041515  0.01051546 0.00300717 0.02211935 0.00418801\n",
            "  0.01443946 0.02797478 0.01664604 0.02480739 0.01360097 0.0128514\n",
            "  0.0134859  0.10689853 0.01261883 0.0198102  0.00955651 0.04562991\n",
            "  0.03455944 0.00598513 0.00718635 0.02604068 0.01319034 0.01219295\n",
            "  0.0099473  0.01985753 0.00144205 0.00190882 0.04941269 0.0088268\n",
            "  0.09221264 0.00180672 0.01055021 0.07204873 0.00218011 0.0409231\n",
            "  0.00923652 0.02650729 0.0133357  0.00710153 0.01604417 0.01910226\n",
            "  0.00779216 0.02904821]\n",
            " [0.01217798 0.00373701 0.01313137 0.02172234 0.00334804 0.00976523\n",
            "  0.02770199 0.00359896 0.01400234 0.00292796 0.02676808 0.00396092\n",
            "  0.01846903 0.02537687 0.0212856  0.0187855  0.01540927 0.00881957\n",
            "  0.01491086 0.10567587 0.01125946 0.01950245 0.00846002 0.05600341\n",
            "  0.03283543 0.00423296 0.01018425 0.02272605 0.00548083 0.01606661\n",
            "  0.01263395 0.0229612  0.00167901 0.00199948 0.04386376 0.00772448\n",
            "  0.09771116 0.00166685 0.01065432 0.05292838 0.00361308 0.04543362\n",
            "  0.01233491 0.02716569 0.00969904 0.00707308 0.02038644 0.01860195\n",
            "  0.01022858 0.03331479]]\n"
          ]
        }
      ]
    },
    {
      "cell_type": "code",
      "source": [
        "print(\"Sum of probabilities (should be 1):\", np.sum(probs[:, -1, :], axis=-1))"
      ],
      "metadata": {
        "colab": {
          "base_uri": "https://localhost:8080/"
        },
        "id": "AKFqFfWyR-VQ",
        "outputId": "6cfc22f2-2830-4587-f971-2fd76451cc1f"
      },
      "execution_count": 140,
      "outputs": [
        {
          "output_type": "stream",
          "name": "stdout",
          "text": [
            "Sum of probabilities (should be 1): [1. 1.]\n"
          ]
        }
      ]
    },
    {
      "cell_type": "markdown",
      "source": [
        "### Menggunakan RoPE"
      ],
      "metadata": {
        "id": "_1sMPiRzm7YQ"
      }
    },
    {
      "cell_type": "code",
      "source": [
        "model_rope = TransformerDecoder(vocab_size, d_model, num_heads, d_ff, num_layers, max_len=seq_len, use_rope=True)\n",
        "\n",
        "logits, probs, mask = model(input_tokens, visualize=True)"
      ],
      "metadata": {
        "colab": {
          "base_uri": "https://localhost:8080/",
          "height": 410
        },
        "id": "insV-9mumzUW",
        "outputId": "a1b53708-55a3-4698-d344-4d45231147ff"
      },
      "execution_count": 141,
      "outputs": [
        {
          "output_type": "display_data",
          "data": {
            "text/plain": [
              "<Figure size 500x400 with 2 Axes>"
            ],
            "image/png": "[encoded data removed]"
          },
          "metadata": {}
        }
      ]
    },
    {
      "cell_type": "code",
      "source": [
        "print(\"Input tokens:\\n\", input_tokens)\n",
        "print(\"Logits shape:\", logits.shape)\n",
        "print(\"Probs shape:\", probs.shape)\n",
        "print(\"Causal mask:\\n\", mask[0,0])"
      ],
      "metadata": {
        "colab": {
          "base_uri": "https://localhost:8080/"
        },
        "id": "e50hcwdQnE7-",
        "outputId": "76294dcb-3577-47b4-8cbe-91c9d6afe773"
      },
      "execution_count": 142,
      "outputs": [
        {
          "output_type": "stream",
          "name": "stdout",
          "text": [
            "Input tokens:\n",
            " [[24 21 32 39 28]\n",
            " [ 4 41 37 10 40]]\n",
            "Logits shape: (2, 5, 50)\n",
            "Probs shape: (2, 5, 50)\n",
            "Causal mask:\n",
            " [[0. 1. 1. 1. 1.]\n",
            " [0. 0. 1. 1. 1.]\n",
            " [0. 0. 0. 1. 1.]\n",
            " [0. 0. 0. 0. 1.]\n",
            " [0. 0. 0. 0. 0.]]\n"
          ]
        }
      ]
    },
    {
      "cell_type": "code",
      "source": [
        "print(\"Softmax output (last token):\\n\", probs[:, -1, :])"
      ],
      "metadata": {
        "colab": {
          "base_uri": "https://localhost:8080/"
        },
        "id": "zOkXWquQnF89",
        "outputId": "b81f8745-25c9-4bbf-86aa-5d19fbe0fa95"
      },
      "execution_count": 143,
      "outputs": [
        {
          "output_type": "stream",
          "name": "stdout",
          "text": [
            "Softmax output (last token):\n",
            " [[0.00548826 0.00258694 0.02340668 0.02311187 0.00361226 0.00856798\n",
            "  0.03248516 0.0041515  0.01051546 0.00300717 0.02211935 0.00418801\n",
            "  0.01443946 0.02797478 0.01664604 0.02480739 0.01360097 0.0128514\n",
            "  0.0134859  0.10689853 0.01261883 0.0198102  0.00955651 0.04562991\n",
            "  0.03455944 0.00598513 0.00718635 0.02604068 0.01319034 0.01219295\n",
            "  0.0099473  0.01985753 0.00144205 0.00190882 0.04941269 0.0088268\n",
            "  0.09221264 0.00180672 0.01055021 0.07204873 0.00218011 0.0409231\n",
            "  0.00923652 0.02650729 0.0133357  0.00710153 0.01604417 0.01910226\n",
            "  0.00779216 0.02904821]\n",
            " [0.01217798 0.00373701 0.01313137 0.02172234 0.00334804 0.00976523\n",
            "  0.02770199 0.00359896 0.01400234 0.00292796 0.02676808 0.00396092\n",
            "  0.01846903 0.02537687 0.0212856  0.0187855  0.01540927 0.00881957\n",
            "  0.01491086 0.10567587 0.01125946 0.01950245 0.00846002 0.05600341\n",
            "  0.03283543 0.00423296 0.01018425 0.02272605 0.00548083 0.01606661\n",
            "  0.01263395 0.0229612  0.00167901 0.00199948 0.04386376 0.00772448\n",
            "  0.09771116 0.00166685 0.01065432 0.05292838 0.00361308 0.04543362\n",
            "  0.01233491 0.02716569 0.00969904 0.00707308 0.02038644 0.01860195\n",
            "  0.01022858 0.03331479]]\n"
          ]
        }
      ]
    },
    {
      "cell_type": "code",
      "source": [
        "print(\"Sum of probabilities (should be 1):\", np.sum(probs[:, -1, :], axis=-1))"
      ],
      "metadata": {
        "colab": {
          "base_uri": "https://localhost:8080/"
        },
        "id": "MH0upy00nOix",
        "outputId": "3a76c60d-a403-4c3b-d728-a6500d4f2cb2"
      },
      "execution_count": 144,
      "outputs": [
        {
          "output_type": "stream",
          "name": "stdout",
          "text": [
            "Sum of probabilities (should be 1): [1. 1.]\n"
          ]
        }
      ]
    }
  ]
}